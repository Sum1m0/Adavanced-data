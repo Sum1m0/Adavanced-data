{
 "cells": [
  {
   "cell_type": "code",
   "execution_count": 1,
   "id": "3c6d5e96-519d-45e8-8cf8-f82670b7bb8c",
   "metadata": {},
   "outputs": [
    {
     "name": "stdout",
     "output_type": "stream",
     "text": [
      "Requirement already satisfied: keras-tcn in /opt/anaconda3/lib/python3.12/site-packages (3.1.2)\n",
      "Requirement already satisfied: numpy in /opt/anaconda3/lib/python3.12/site-packages (from keras-tcn) (1.26.4)\n",
      "Requirement already satisfied: tensorflow in /opt/anaconda3/lib/python3.12/site-packages (from keras-tcn) (2.18.0)\n",
      "Requirement already satisfied: absl-py>=1.0.0 in /opt/anaconda3/lib/python3.12/site-packages (from tensorflow->keras-tcn) (2.1.0)\n",
      "Requirement already satisfied: astunparse>=1.6.0 in /opt/anaconda3/lib/python3.12/site-packages (from tensorflow->keras-tcn) (1.6.3)\n",
      "Requirement already satisfied: flatbuffers>=24.3.25 in /opt/anaconda3/lib/python3.12/site-packages (from tensorflow->keras-tcn) (24.3.25)\n",
      "Requirement already satisfied: gast!=0.5.0,!=0.5.1,!=0.5.2,>=0.2.1 in /opt/anaconda3/lib/python3.12/site-packages (from tensorflow->keras-tcn) (0.6.0)\n",
      "Requirement already satisfied: google-pasta>=0.1.1 in /opt/anaconda3/lib/python3.12/site-packages (from tensorflow->keras-tcn) (0.2.0)\n",
      "Requirement already satisfied: libclang>=13.0.0 in /opt/anaconda3/lib/python3.12/site-packages (from tensorflow->keras-tcn) (18.1.1)\n",
      "Requirement already satisfied: opt-einsum>=2.3.2 in /opt/anaconda3/lib/python3.12/site-packages (from tensorflow->keras-tcn) (3.4.0)\n",
      "Requirement already satisfied: packaging in /opt/anaconda3/lib/python3.12/site-packages (from tensorflow->keras-tcn) (23.2)\n",
      "Requirement already satisfied: protobuf!=4.21.0,!=4.21.1,!=4.21.2,!=4.21.3,!=4.21.4,!=4.21.5,<6.0.0dev,>=3.20.3 in /opt/anaconda3/lib/python3.12/site-packages (from tensorflow->keras-tcn) (3.20.3)\n",
      "Requirement already satisfied: requests<3,>=2.21.0 in /opt/anaconda3/lib/python3.12/site-packages (from tensorflow->keras-tcn) (2.32.2)\n",
      "Requirement already satisfied: setuptools in /opt/anaconda3/lib/python3.12/site-packages (from tensorflow->keras-tcn) (75.8.2)\n",
      "Requirement already satisfied: six>=1.12.0 in /opt/anaconda3/lib/python3.12/site-packages (from tensorflow->keras-tcn) (1.16.0)\n",
      "Requirement already satisfied: termcolor>=1.1.0 in /opt/anaconda3/lib/python3.12/site-packages (from tensorflow->keras-tcn) (2.5.0)\n",
      "Requirement already satisfied: typing-extensions>=3.6.6 in /opt/anaconda3/lib/python3.12/site-packages (from tensorflow->keras-tcn) (4.11.0)\n",
      "Requirement already satisfied: wrapt>=1.11.0 in /opt/anaconda3/lib/python3.12/site-packages (from tensorflow->keras-tcn) (1.14.1)\n",
      "Requirement already satisfied: grpcio<2.0,>=1.24.3 in /opt/anaconda3/lib/python3.12/site-packages (from tensorflow->keras-tcn) (1.67.1)\n",
      "Requirement already satisfied: tensorboard<2.19,>=2.18 in /opt/anaconda3/lib/python3.12/site-packages (from tensorflow->keras-tcn) (2.18.0)\n",
      "Requirement already satisfied: keras>=3.5.0 in /opt/anaconda3/lib/python3.12/site-packages (from tensorflow->keras-tcn) (3.6.0)\n",
      "Requirement already satisfied: h5py>=3.11.0 in /opt/anaconda3/lib/python3.12/site-packages (from tensorflow->keras-tcn) (3.11.0)\n",
      "Requirement already satisfied: ml-dtypes<0.5.0,>=0.4.0 in /opt/anaconda3/lib/python3.12/site-packages (from tensorflow->keras-tcn) (0.4.1)\n",
      "Requirement already satisfied: wheel<1.0,>=0.23.0 in /opt/anaconda3/lib/python3.12/site-packages (from astunparse>=1.6.0->tensorflow->keras-tcn) (0.45.1)\n",
      "Requirement already satisfied: rich in /opt/anaconda3/lib/python3.12/site-packages (from keras>=3.5.0->tensorflow->keras-tcn) (13.3.5)\n",
      "Requirement already satisfied: namex in /opt/anaconda3/lib/python3.12/site-packages (from keras>=3.5.0->tensorflow->keras-tcn) (0.0.8)\n",
      "Requirement already satisfied: optree in /opt/anaconda3/lib/python3.12/site-packages (from keras>=3.5.0->tensorflow->keras-tcn) (0.13.0)\n",
      "Requirement already satisfied: charset-normalizer<4,>=2 in /opt/anaconda3/lib/python3.12/site-packages (from requests<3,>=2.21.0->tensorflow->keras-tcn) (2.0.4)\n",
      "Requirement already satisfied: idna<4,>=2.5 in /opt/anaconda3/lib/python3.12/site-packages (from requests<3,>=2.21.0->tensorflow->keras-tcn) (3.7)\n",
      "Requirement already satisfied: urllib3<3,>=1.21.1 in /opt/anaconda3/lib/python3.12/site-packages (from requests<3,>=2.21.0->tensorflow->keras-tcn) (2.2.2)\n",
      "Requirement already satisfied: certifi>=2017.4.17 in /opt/anaconda3/lib/python3.12/site-packages (from requests<3,>=2.21.0->tensorflow->keras-tcn) (2025.1.31)\n",
      "Requirement already satisfied: markdown>=2.6.8 in /opt/anaconda3/lib/python3.12/site-packages (from tensorboard<2.19,>=2.18->tensorflow->keras-tcn) (3.4.1)\n",
      "Requirement already satisfied: tensorboard-data-server<0.8.0,>=0.7.0 in /opt/anaconda3/lib/python3.12/site-packages (from tensorboard<2.19,>=2.18->tensorflow->keras-tcn) (0.7.2)\n",
      "Requirement already satisfied: werkzeug>=1.0.1 in /opt/anaconda3/lib/python3.12/site-packages (from tensorboard<2.19,>=2.18->tensorflow->keras-tcn) (3.0.3)\n",
      "Requirement already satisfied: MarkupSafe>=2.1.1 in /opt/anaconda3/lib/python3.12/site-packages (from werkzeug>=1.0.1->tensorboard<2.19,>=2.18->tensorflow->keras-tcn) (2.1.3)\n",
      "Requirement already satisfied: markdown-it-py<3.0.0,>=2.2.0 in /opt/anaconda3/lib/python3.12/site-packages (from rich->keras>=3.5.0->tensorflow->keras-tcn) (2.2.0)\n",
      "Requirement already satisfied: pygments<3.0.0,>=2.13.0 in /opt/anaconda3/lib/python3.12/site-packages (from rich->keras>=3.5.0->tensorflow->keras-tcn) (2.15.1)\n",
      "Requirement already satisfied: mdurl~=0.1 in /opt/anaconda3/lib/python3.12/site-packages (from markdown-it-py<3.0.0,>=2.2.0->rich->keras>=3.5.0->tensorflow->keras-tcn) (0.1.0)\n"
     ]
    }
   ],
   "source": [
    "# !pip install keras-tcn"
   ]
  },
  {
   "cell_type": "code",
   "execution_count": 1,
   "id": "initial_id",
   "metadata": {
    "ExecuteTime": {
     "end_time": "2024-10-30T06:30:20.142738Z",
     "start_time": "2024-10-30T06:30:20.137014Z"
    }
   },
   "outputs": [],
   "source": [
    "import yfinance as yf\n",
    "import pandas as pd\n",
    "import numpy as np\n",
    "from sklearn.preprocessing import MinMaxScaler\n",
    "from tensorflow.keras.models import Sequential\n",
    "from tensorflow.keras.layers import Dense\n",
    "from tcn import TCN\n",
    "import matplotlib.pyplot as plt"
   ]
  },
  {
   "cell_type": "code",
   "execution_count": 3,
   "id": "748632c34cfc13fd",
   "metadata": {
    "ExecuteTime": {
     "end_time": "2024-10-30T06:30:31.764722Z",
     "start_time": "2024-10-30T06:30:31.715602Z"
    }
   },
   "outputs": [
    {
     "name": "stdout",
     "output_type": "stream",
     "text": [
      "YF.download() has changed argument auto_adjust default to True\n"
     ]
    },
    {
     "name": "stderr",
     "output_type": "stream",
     "text": [
      "[*********************100%***********************]  1 of 1 completed\n"
     ]
    }
   ],
   "source": [
    "ticker = '^NSEI'\n",
    "df = yf.download(ticker, start='2024-01-01', end='2025-01-01')"
   ]
  },
  {
   "cell_type": "code",
   "execution_count": 5,
   "id": "bafa812613b5a755",
   "metadata": {
    "ExecuteTime": {
     "end_time": "2024-10-30T06:30:45.450424Z",
     "start_time": "2024-10-30T06:30:45.442363Z"
    }
   },
   "outputs": [],
   "source": [
    "data = df['Close'].values\n",
    "data = data.reshape(-1, 1)"
   ]
  },
  {
   "cell_type": "code",
   "execution_count": 7,
   "id": "dd07eba24761a815",
   "metadata": {
    "ExecuteTime": {
     "end_time": "2024-10-30T06:30:57.897588Z",
     "start_time": "2024-10-30T06:30:57.889192Z"
    }
   },
   "outputs": [],
   "source": [
    "scaler = MinMaxScaler(feature_range=(0, 1))\n",
    "scaled_data = scaler.fit_transform(data)"
   ]
  },
  {
   "cell_type": "code",
   "execution_count": 9,
   "id": "93f79b464eeb2697",
   "metadata": {
    "ExecuteTime": {
     "end_time": "2024-10-30T06:31:24.584208Z",
     "start_time": "2024-10-30T06:31:24.578352Z"
    }
   },
   "outputs": [],
   "source": [
    "training_data_len = int(np.ceil(0.8 * len(scaled_data)))"
   ]
  },
  {
   "cell_type": "code",
   "execution_count": 11,
   "id": "5c6075fcf9466843",
   "metadata": {
    "ExecuteTime": {
     "end_time": "2024-10-30T06:31:34.301583Z",
     "start_time": "2024-10-30T06:31:34.295560Z"
    }
   },
   "outputs": [],
   "source": [
    "train_data = scaled_data[:training_data_len, :]\n",
    "test_data = scaled_data[training_data_len - 60:, :]"
   ]
  },
  {
   "cell_type": "code",
   "execution_count": 13,
   "id": "e4c6cd769a566689",
   "metadata": {
    "ExecuteTime": {
     "end_time": "2024-10-30T06:31:50.198691Z",
     "start_time": "2024-10-30T06:31:50.192609Z"
    }
   },
   "outputs": [],
   "source": [
    "x_train, y_train = [], []\n",
    "for i in range(60, len(train_data)):\n",
    "    x_train.append(train_data[i-60:i, 0])\n",
    "    y_train.append(train_data[i, 0])\n",
    "\n",
    "x_train, y_train = np.array(x_train), np.array(y_train)"
   ]
  },
  {
   "cell_type": "code",
   "execution_count": 15,
   "id": "be184fcc07a35482",
   "metadata": {
    "ExecuteTime": {
     "end_time": "2024-10-30T06:32:03.252074Z",
     "start_time": "2024-10-30T06:32:03.245144Z"
    }
   },
   "outputs": [],
   "source": [
    "x_train = np.reshape(x_train, (x_train.shape[0], x_train.shape[1], 1))"
   ]
  },
  {
   "cell_type": "code",
   "execution_count": 17,
   "id": "aafbd766e9968110",
   "metadata": {
    "ExecuteTime": {
     "end_time": "2024-10-30T06:33:03.924452Z",
     "start_time": "2024-10-30T06:33:03.867781Z"
    }
   },
   "outputs": [
    {
     "name": "stderr",
     "output_type": "stream",
     "text": [
      "/opt/anaconda3/lib/python3.12/site-packages/tcn/tcn.py:227: UserWarning: Do not pass an `input_shape`/`input_dim` argument to a layer. When using Sequential models, prefer using an `Input(shape)` object as the first layer in the model instead.\n",
      "  super(TCN, self).__init__(**kwargs)\n"
     ]
    }
   ],
   "source": [
    "model = Sequential()\n",
    "# Explicitly define the input_shape using a tuple\n",
    "model.add(TCN(input_shape=(x_train.shape[1], x_train.shape[2])))\n",
    "model.add(Dense(1))\n",
    "\n",
    "model.compile(optimizer='adam', loss='mean_absolute_error')"
   ]
  },
  {
   "cell_type": "code",
   "execution_count": 19,
   "id": "8ac5c827a1a86c3f",
   "metadata": {
    "ExecuteTime": {
     "end_time": "2024-10-30T06:33:27.789555Z",
     "start_time": "2024-10-30T06:33:23.850377Z"
    }
   },
   "outputs": [
    {
     "name": "stdout",
     "output_type": "stream",
     "text": [
      "Epoch 1/10\n",
      "\u001b[1m137/137\u001b[0m \u001b[32m━━━━━━━━━━━━━━━━━━━━\u001b[0m\u001b[37m\u001b[0m \u001b[1m2s\u001b[0m 2ms/step - loss: 1.9017  \n",
      "Epoch 2/10\n",
      "\u001b[1m137/137\u001b[0m \u001b[32m━━━━━━━━━━━━━━━━━━━━\u001b[0m\u001b[37m\u001b[0m \u001b[1m0s\u001b[0m 3ms/step - loss: 0.3737 \n",
      "Epoch 3/10\n",
      "\u001b[1m137/137\u001b[0m \u001b[32m━━━━━━━━━━━━━━━━━━━━\u001b[0m\u001b[37m\u001b[0m \u001b[1m0s\u001b[0m 3ms/step - loss: 0.1655 \n",
      "Epoch 4/10\n",
      "\u001b[1m137/137\u001b[0m \u001b[32m━━━━━━━━━━━━━━━━━━━━\u001b[0m\u001b[37m\u001b[0m \u001b[1m0s\u001b[0m 3ms/step - loss: 0.1553 \n",
      "Epoch 5/10\n",
      "\u001b[1m137/137\u001b[0m \u001b[32m━━━━━━━━━━━━━━━━━━━━\u001b[0m\u001b[37m\u001b[0m \u001b[1m0s\u001b[0m 3ms/step - loss: 0.1194 \n",
      "Epoch 6/10\n",
      "\u001b[1m137/137\u001b[0m \u001b[32m━━━━━━━━━━━━━━━━━━━━\u001b[0m\u001b[37m\u001b[0m \u001b[1m0s\u001b[0m 3ms/step - loss: 0.1350 \n",
      "Epoch 7/10\n",
      "\u001b[1m137/137\u001b[0m \u001b[32m━━━━━━━━━━━━━━━━━━━━\u001b[0m\u001b[37m\u001b[0m \u001b[1m0s\u001b[0m 3ms/step - loss: 0.1468 \n",
      "Epoch 8/10\n",
      "\u001b[1m137/137\u001b[0m \u001b[32m━━━━━━━━━━━━━━━━━━━━\u001b[0m\u001b[37m\u001b[0m \u001b[1m0s\u001b[0m 3ms/step - loss: 0.0978 \n",
      "Epoch 9/10\n",
      "\u001b[1m137/137\u001b[0m \u001b[32m━━━━━━━━━━━━━━━━━━━━\u001b[0m\u001b[37m\u001b[0m \u001b[1m0s\u001b[0m 3ms/step - loss: 0.0965 \n",
      "Epoch 10/10\n",
      "\u001b[1m137/137\u001b[0m \u001b[32m━━━━━━━━━━━━━━━━━━━━\u001b[0m\u001b[37m\u001b[0m \u001b[1m0s\u001b[0m 3ms/step - loss: 0.0766 \n"
     ]
    },
    {
     "data": {
      "text/plain": [
       "<keras.src.callbacks.history.History at 0x3072c6c60>"
      ]
     },
     "execution_count": 19,
     "metadata": {},
     "output_type": "execute_result"
    }
   ],
   "source": [
    "model.fit(x_train, y_train, batch_size=1, epochs=10)"
   ]
  },
  {
   "cell_type": "code",
   "execution_count": 21,
   "id": "3f017f1baf6acba2",
   "metadata": {
    "ExecuteTime": {
     "end_time": "2024-10-30T06:34:43.232239Z",
     "start_time": "2024-10-30T06:34:42.806914Z"
    }
   },
   "outputs": [
    {
     "name": "stdout",
     "output_type": "stream",
     "text": [
      "\u001b[1m2/2\u001b[0m \u001b[32m━━━━━━━━━━━━━━━━━━━━\u001b[0m\u001b[37m\u001b[0m \u001b[1m0s\u001b[0m 188ms/step\n"
     ]
    }
   ],
   "source": [
    "x_test, y_test = [], data[training_data_len:, :]\n",
    "for i in range(60, len(test_data)):\n",
    "    x_test.append(test_data[i-60:i, 0])\n",
    "\n",
    "x_test = np.array(x_test)\n",
    "x_test = np.reshape(x_test, (x_test.shape[0], x_test.shape[1], 1))\n",
    "\n",
    "# Get predicted prices\n",
    "predictions = model.predict(x_test)\n",
    "predictions = scaler.inverse_transform(predictions)"
   ]
  },
  {
   "cell_type": "code",
   "execution_count": 23,
   "id": "6398d37286db438b",
   "metadata": {
    "ExecuteTime": {
     "end_time": "2024-10-30T09:01:17.906552Z",
     "start_time": "2024-10-30T09:01:16.640380Z"
    }
   },
   "outputs": [
    {
     "name": "stdout",
     "output_type": "stream",
     "text": [
      "\u001b[1m1/1\u001b[0m \u001b[32m━━━━━━━━━━━━━━━━━━━━\u001b[0m\u001b[37m\u001b[0m \u001b[1m0s\u001b[0m 15ms/step\n",
      "\u001b[1m1/1\u001b[0m \u001b[32m━━━━━━━━━━━━━━━━━━━━\u001b[0m\u001b[37m\u001b[0m \u001b[1m0s\u001b[0m 12ms/step\n",
      "\u001b[1m1/1\u001b[0m \u001b[32m━━━━━━━━━━━━━━━━━━━━\u001b[0m\u001b[37m\u001b[0m \u001b[1m0s\u001b[0m 12ms/step\n",
      "\u001b[1m1/1\u001b[0m \u001b[32m━━━━━━━━━━━━━━━━━━━━\u001b[0m\u001b[37m\u001b[0m \u001b[1m0s\u001b[0m 12ms/step\n",
      "\u001b[1m1/1\u001b[0m \u001b[32m━━━━━━━━━━━━━━━━━━━━\u001b[0m\u001b[37m\u001b[0m \u001b[1m0s\u001b[0m 12ms/step\n",
      "\u001b[1m1/1\u001b[0m \u001b[32m━━━━━━━━━━━━━━━━━━━━\u001b[0m\u001b[37m\u001b[0m \u001b[1m0s\u001b[0m 12ms/step\n",
      "\u001b[1m1/1\u001b[0m \u001b[32m━━━━━━━━━━━━━━━━━━━━\u001b[0m\u001b[37m\u001b[0m \u001b[1m0s\u001b[0m 12ms/step\n",
      "\u001b[1m1/1\u001b[0m \u001b[32m━━━━━━━━━━━━━━━━━━━━\u001b[0m\u001b[37m\u001b[0m \u001b[1m0s\u001b[0m 11ms/step\n",
      "\u001b[1m1/1\u001b[0m \u001b[32m━━━━━━━━━━━━━━━━━━━━\u001b[0m\u001b[37m\u001b[0m \u001b[1m0s\u001b[0m 12ms/step\n",
      "\u001b[1m1/1\u001b[0m \u001b[32m━━━━━━━━━━━━━━━━━━━━\u001b[0m\u001b[37m\u001b[0m \u001b[1m0s\u001b[0m 12ms/step\n",
      "\u001b[1m1/1\u001b[0m \u001b[32m━━━━━━━━━━━━━━━━━━━━\u001b[0m\u001b[37m\u001b[0m \u001b[1m0s\u001b[0m 12ms/step\n",
      "\u001b[1m1/1\u001b[0m \u001b[32m━━━━━━━━━━━━━━━━━━━━\u001b[0m\u001b[37m\u001b[0m \u001b[1m0s\u001b[0m 11ms/step\n",
      "\u001b[1m1/1\u001b[0m \u001b[32m━━━━━━━━━━━━━━━━━━━━\u001b[0m\u001b[37m\u001b[0m \u001b[1m0s\u001b[0m 12ms/step\n",
      "\u001b[1m1/1\u001b[0m \u001b[32m━━━━━━━━━━━━━━━━━━━━\u001b[0m\u001b[37m\u001b[0m \u001b[1m0s\u001b[0m 12ms/step\n",
      "\u001b[1m1/1\u001b[0m \u001b[32m━━━━━━━━━━━━━━━━━━━━\u001b[0m\u001b[37m\u001b[0m \u001b[1m0s\u001b[0m 12ms/step\n",
      "\u001b[1m1/1\u001b[0m \u001b[32m━━━━━━━━━━━━━━━━━━━━\u001b[0m\u001b[37m\u001b[0m \u001b[1m0s\u001b[0m 12ms/step\n",
      "\u001b[1m1/1\u001b[0m \u001b[32m━━━━━━━━━━━━━━━━━━━━\u001b[0m\u001b[37m\u001b[0m \u001b[1m0s\u001b[0m 12ms/step\n",
      "\u001b[1m1/1\u001b[0m \u001b[32m━━━━━━━━━━━━━━━━━━━━\u001b[0m\u001b[37m\u001b[0m \u001b[1m0s\u001b[0m 11ms/step\n",
      "\u001b[1m1/1\u001b[0m \u001b[32m━━━━━━━━━━━━━━━━━━━━\u001b[0m\u001b[37m\u001b[0m \u001b[1m0s\u001b[0m 12ms/step\n",
      "\u001b[1m1/1\u001b[0m \u001b[32m━━━━━━━━━━━━━━━━━━━━\u001b[0m\u001b[37m\u001b[0m \u001b[1m0s\u001b[0m 12ms/step\n"
     ]
    }
   ],
   "source": [
    "future_steps = 20\n",
    "last_sequence = test_data[-60:].reshape(1, 60, 1)\n",
    "future_predictions = []\n",
    "\n",
    "for i in range(future_steps):\n",
    "    next_price = model.predict(last_sequence)\n",
    "    future_predictions.append(next_price[0, 0])\n",
    "    last_sequence = np.append(last_sequence[:, 1:, :], np.reshape(next_price, (1, 1, 1)), axis=1)\n",
    "\n",
    "# Inverse scale future predictions\n",
    "future_predictions = scaler.inverse_transform(np.array(future_predictions).reshape(-1, 1))"
   ]
  },
  {
   "cell_type": "code",
   "execution_count": 25,
   "id": "f174e0b2fa46d02e",
   "metadata": {
    "ExecuteTime": {
     "end_time": "2024-10-30T09:01:19.850003Z",
     "start_time": "2024-10-30T09:01:19.705748Z"
    }
   },
   "outputs": [
    {
     "data": {
      "image/png": "[encoded data removed]",
      "text/plain": [
       "<Figure size 1000x600 with 1 Axes>"
      ]
     },
     "metadata": {},
     "output_type": "display_data"
    }
   ],
   "source": [
    "plt.figure(figsize=(10,6))\n",
    "plt.plot(df.index[training_data_len:], y_test, label='Actual Prices')\n",
    "plt.plot(df.index[training_data_len:], predictions, label='Predicted Prices', color='red')\n",
    "\n",
    "# Create future date range for the next 30 days\n",
    "future_dates = pd.date_range(start=df.index[-1], periods=future_steps + 1, freq='B')[1:]\n",
    "\n",
    "plt.plot(future_dates, future_predictions, label='Future Predicted Prices', color='green')\n",
    "plt.title(f'{ticker} Stock Price Prediction with TCN')\n",
    "plt.xlabel('Date')\n",
    "plt.ylabel('Stock Price')\n",
    "plt.legend()\n",
    "plt.show()"
   ]
  },
  {
   "cell_type": "code",
   "execution_count": 27,
   "id": "f83f88ad60bc2055",
   "metadata": {
    "ExecuteTime": {
     "end_time": "2024-10-30T09:01:27.333250Z",
     "start_time": "2024-10-30T09:01:27.324817Z"
    }
   },
   "outputs": [
    {
     "data": {
      "text/plain": [
       "array([[24048.291],\n",
       "       [24261.857],\n",
       "       [24464.926],\n",
       "       [24860.72 ],\n",
       "       [25136.846],\n",
       "       [25323.787],\n",
       "       [25431.672],\n",
       "       [25536.137],\n",
       "       [25490.908],\n",
       "       [25388.883],\n",
       "       [25334.568],\n",
       "       [25142.908],\n",
       "       [24963.8  ],\n",
       "       [24751.385],\n",
       "       [24456.299],\n",
       "       [24179.621],\n",
       "       [24061.992],\n",
       "       [23953.074],\n",
       "       [23886.088],\n",
       "       [23959.865]], dtype=float32)"
      ]
     },
     "execution_count": 27,
     "metadata": {},
     "output_type": "execute_result"
    }
   ],
   "source": [
    "from sklearn.metrics import mean_absolute_error, mean_squared_error\n",
    "\n",
    "forecasted_values = np.array(future_predictions)\n",
    "forecasted_values"
   ]
  },
  {
   "cell_type": "code",
   "execution_count": 29,
   "id": "33faf9cbe4ce0a43",
   "metadata": {
    "ExecuteTime": {
     "end_time": "2024-10-30T09:02:08.353691Z",
     "start_time": "2024-10-30T09:02:08.061467Z"
    }
   },
   "outputs": [
    {
     "name": "stderr",
     "output_type": "stream",
     "text": [
      "[*********************100%***********************]  1 of 1 completed\n"
     ]
    }
   ],
   "source": [
    "raw_actual = yf.download(ticker, start='2024-12-01', end='2024-12-31')"
   ]
  },
  {
   "cell_type": "code",
   "execution_count": 31,
   "id": "8b64819a46d0b048",
   "metadata": {
    "ExecuteTime": {
     "end_time": "2024-10-30T09:02:09.634632Z",
     "start_time": "2024-10-30T09:02:09.629785Z"
    }
   },
   "outputs": [
    {
     "data": {
      "text/plain": [
       "array([[24276.05078125],\n",
       "       [24457.15039062],\n",
       "       [24467.44921875],\n",
       "       [24708.40039062],\n",
       "       [24677.80078125],\n",
       "       [24619.        ],\n",
       "       [24610.05078125],\n",
       "       [24641.80078125],\n",
       "       [24548.69921875],\n",
       "       [24768.30078125],\n",
       "       [24668.25      ],\n",
       "       [24336.        ],\n",
       "       [24198.84960938],\n",
       "       [23951.69921875],\n",
       "       [23587.5       ],\n",
       "       [23753.44921875],\n",
       "       [23727.65039062],\n",
       "       [23750.19921875],\n",
       "       [23813.40039062],\n",
       "       [23644.90039062]])"
      ]
     },
     "execution_count": 31,
     "metadata": {},
     "output_type": "execute_result"
    }
   ],
   "source": [
    "raw_actual.dropna(inplace=True)\n",
    "actual_values = np.array(raw_actual['Close'])\n",
    "\n",
    "actual_values"
   ]
  },
  {
   "cell_type": "code",
   "execution_count": 33,
   "id": "6766502ff7fb9b41",
   "metadata": {
    "ExecuteTime": {
     "end_time": "2024-10-30T09:02:11.913558Z",
     "start_time": "2024-10-30T09:02:11.910874Z"
    }
   },
   "outputs": [],
   "source": [
    "mape = np.mean(np.abs((actual_values - forecasted_values) / actual_values)) * 100"
   ]
  },
  {
   "cell_type": "code",
   "execution_count": 35,
   "id": "4e45e2a50e5c1f78",
   "metadata": {
    "ExecuteTime": {
     "end_time": "2024-10-30T09:02:13.429003Z",
     "start_time": "2024-10-30T09:02:13.411068Z"
    }
   },
   "outputs": [],
   "source": [
    "mae = mean_absolute_error(actual_values, forecasted_values)"
   ]
  },
  {
   "cell_type": "code",
   "execution_count": 37,
   "id": "e380ead3191ef6fa",
   "metadata": {
    "ExecuteTime": {
     "end_time": "2024-10-30T09:02:14.276189Z",
     "start_time": "2024-10-30T09:02:14.268268Z"
    }
   },
   "outputs": [],
   "source": [
    "rmse = np.sqrt(mean_squared_error(actual_values, forecasted_values))"
   ]
  },
  {
   "cell_type": "code",
   "execution_count": 39,
   "id": "37135e64957f13c8",
   "metadata": {
    "ExecuteTime": {
     "end_time": "2024-10-30T09:02:14.928741Z",
     "start_time": "2024-10-30T09:02:14.923426Z"
    }
   },
   "outputs": [
    {
     "name": "stdout",
     "output_type": "stream",
     "text": [
      "Mean Absolute Percentage Error (MAPE): 2.11%\n",
      "Mean Absolute Error (MAE): 513.91\n",
      "Root Mean Squared Error (RMSE): 595.06\n"
     ]
    }
   ],
   "source": [
    "print(f\"Mean Absolute Percentage Error (MAPE): {mape:.2f}%\")\n",
    "print(f\"Mean Absolute Error (MAE): {mae:.2f}\")\n",
    "print(f\"Root Mean Squared Error (RMSE): {rmse:.2f}\")"
   ]
  },
  {
   "cell_type": "code",
   "execution_count": 43,
   "id": "34e7dd1c90c349ca",
   "metadata": {
    "ExecuteTime": {
     "end_time": "2024-10-30T09:11:01.615020Z",
     "start_time": "2024-10-30T09:11:01.596642Z"
    }
   },
   "outputs": [],
   "source": [
    "df_tcn = pd.DataFrame(forecasted_values)\n",
    "df_tcn.dropna(inplace=True)\n",
    "df_tcn.to_csv('TCN_forecast.csv', index=False)"
   ]
  },
  {
   "cell_type": "code",
   "execution_count": null,
   "id": "8522c34a-b18f-4549-8683-7557c3bdd8f9",
   "metadata": {},
   "outputs": [],
   "source": []
  }
 ],
 "metadata": {
  "kernelspec": {
   "display_name": "Python 3 (ipykernel)",
   "language": "python",
   "name": "python3"
  },
  "language_info": {
   "codemirror_mode": {
    "name": "ipython",
    "version": 3
   },
   "file_extension": ".py",
   "mimetype": "text/x-python",
   "name": "python",
   "nbconvert_exporter": "python",
   "pygments_lexer": "ipython3",
   "version": "3.12.4"
  }
 },
 "nbformat": 4,
 "nbformat_minor": 5
}
