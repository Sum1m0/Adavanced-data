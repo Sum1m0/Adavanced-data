{
 "cells": [
  {
   "cell_type": "code",
   "execution_count": 1,
   "id": "initial_id",
   "metadata": {
    "ExecuteTime": {
     "end_time": "2024-10-30T08:55:47.802728Z",
     "start_time": "2024-10-30T08:55:47.788998Z"
    }
   },
   "outputs": [],
   "source": [
    "import yfinance as yf\n",
    "import pandas as pd\n",
    "import numpy as np\n",
    "import tensorflow as tf\n",
    "import random\n",
    "from sklearn.preprocessing import MinMaxScaler\n",
    "from tensorflow.keras.models import Sequential\n",
    "from tensorflow.keras.callbacks import EarlyStopping\n",
    "from tensorflow.keras.layers import LSTM, Dense, Dropout\n",
    "import matplotlib.pyplot as plt"
   ]
  },
  {
   "cell_type": "code",
   "execution_count": 3,
   "id": "644f1d35d8240506",
   "metadata": {
    "ExecuteTime": {
     "end_time": "2024-10-30T08:55:47.849896Z",
     "start_time": "2024-10-30T08:55:47.807758Z"
    }
   },
   "outputs": [],
   "source": [
    "seed_value = 42\n",
    "np.random.seed(seed_value)\n",
    "tf.random.set_seed(seed_value)\n",
    "random.seed(seed_value)"
   ]
  },
  {
   "cell_type": "code",
   "execution_count": 5,
   "id": "5a4feb0ad09a7455",
   "metadata": {
    "ExecuteTime": {
     "end_time": "2024-10-30T08:55:47.886471Z",
     "start_time": "2024-10-30T08:55:47.868849Z"
    }
   },
   "outputs": [
    {
     "name": "stdout",
     "output_type": "stream",
     "text": [
      "YF.download() has changed argument auto_adjust default to True\n"
     ]
    },
    {
     "name": "stderr",
     "output_type": "stream",
     "text": [
      "[*********************100%***********************]  1 of 1 completed\n"
     ]
    }
   ],
   "source": [
    "ticker = '^NSEI'\n",
    "df = yf.download(ticker, start='2024-01-01', end='2025-01-01')"
   ]
  },
  {
   "cell_type": "code",
   "execution_count": 7,
   "id": "482af594bf95851f",
   "metadata": {
    "ExecuteTime": {
     "end_time": "2024-10-30T08:55:47.910522Z",
     "start_time": "2024-10-30T08:55:47.906534Z"
    }
   },
   "outputs": [
    {
     "data": {
      "text/plain": [
       "array([[21741.90039062],\n",
       "       [21665.80078125],\n",
       "       [21517.34960938],\n",
       "       [21658.59960938],\n",
       "       [21710.80078125],\n",
       "       [21513.        ],\n",
       "       [21544.84960938],\n",
       "       [21618.69921875],\n",
       "       [21647.19921875],\n",
       "       [21894.55078125],\n",
       "       [22097.44921875],\n",
       "       [22032.30078125],\n",
       "       [21571.94921875],\n",
       "       [21462.25      ],\n",
       "       [21622.40039062],\n",
       "       [21238.80078125],\n",
       "       [21453.94921875],\n",
       "       [21352.59960938],\n",
       "       [21737.59960938],\n",
       "       [21522.09960938],\n",
       "       [21725.69921875],\n",
       "       [21697.44921875],\n",
       "       [21853.80078125],\n",
       "       [21771.69921875],\n",
       "       [21929.40039062],\n",
       "       [21930.5       ],\n",
       "       [21717.94921875],\n",
       "       [21782.5       ],\n",
       "       [21616.05078125],\n",
       "       [21743.25      ],\n",
       "       [21840.05078125],\n",
       "       [21910.75      ],\n",
       "       [22040.69921875],\n",
       "       [22122.25      ],\n",
       "       [22196.94921875],\n",
       "       [22055.05078125],\n",
       "       [22217.44921875],\n",
       "       [22212.69921875],\n",
       "       [22122.05078125],\n",
       "       [22198.34960938],\n",
       "       [21951.15039062],\n",
       "       [21982.80078125],\n",
       "       [22338.75      ],\n",
       "       [22405.59960938],\n",
       "       [22356.30078125],\n",
       "       [22474.05078125],\n",
       "       [22493.55078125],\n",
       "       [22332.65039062],\n",
       "       [22335.69921875],\n",
       "       [21997.69921875],\n",
       "       [22146.65039062],\n",
       "       [22023.34960938],\n",
       "       [22055.69921875],\n",
       "       [21817.44921875],\n",
       "       [21839.09960938],\n",
       "       [22011.94921875],\n",
       "       [22096.75      ],\n",
       "       [22004.69921875],\n",
       "       [22123.65039062],\n",
       "       [22326.90039062],\n",
       "       [22462.        ],\n",
       "       [22453.30078125],\n",
       "       [22434.65039062],\n",
       "       [22514.65039062],\n",
       "       [22513.69921875],\n",
       "       [22666.30078125],\n",
       "       [22642.75      ],\n",
       "       [22753.80078125],\n",
       "       [22519.40039062],\n",
       "       [22272.5       ],\n",
       "       [22147.90039062],\n",
       "       [21995.84960938],\n",
       "       [22147.        ],\n",
       "       [22336.40039062],\n",
       "       [22368.        ],\n",
       "       [22402.40039062],\n",
       "       [22570.34960938],\n",
       "       [22419.94921875],\n",
       "       [22643.40039062],\n",
       "       [22604.84960938],\n",
       "       [22648.19921875],\n",
       "       [22475.84960938],\n",
       "       [22442.69921875],\n",
       "       [22302.5       ],\n",
       "       [22302.5       ],\n",
       "       [21957.5       ],\n",
       "       [22055.19921875],\n",
       "       [22104.05078125],\n",
       "       [22217.84960938],\n",
       "       [22200.55078125],\n",
       "       [22403.84960938],\n",
       "       [22466.09960938],\n",
       "       [22529.05078125],\n",
       "       [22597.80078125],\n",
       "       [22967.65039062],\n",
       "       [22957.09960938],\n",
       "       [22932.44921875],\n",
       "       [22888.15039062],\n",
       "       [22704.69921875],\n",
       "       [22488.65039062],\n",
       "       [22530.69921875],\n",
       "       [23263.90039062],\n",
       "       [21884.5       ],\n",
       "       [22620.34960938],\n",
       "       [22821.40039062],\n",
       "       [23290.15039062],\n",
       "       [23259.19921875],\n",
       "       [23264.84960938],\n",
       "       [23322.94921875],\n",
       "       [23398.90039062],\n",
       "       [23465.59960938],\n",
       "       [23557.90039062],\n",
       "       [23516.        ],\n",
       "       [23567.        ],\n",
       "       [23501.09960938],\n",
       "       [23537.84960938],\n",
       "       [23721.30078125],\n",
       "       [23868.80078125],\n",
       "       [24044.5       ],\n",
       "       [24010.59960938],\n",
       "       [24141.94921875],\n",
       "       [24123.84960938],\n",
       "       [24286.5       ],\n",
       "       [24302.15039062],\n",
       "       [24323.84960938],\n",
       "       [24320.55078125],\n",
       "       [24433.19921875],\n",
       "       [24324.44921875],\n",
       "       [24315.94921875],\n",
       "       [24502.15039062],\n",
       "       [24586.69921875],\n",
       "       [24613.        ],\n",
       "       [24800.84960938],\n",
       "       [24530.90039062],\n",
       "       [24509.25      ],\n",
       "       [24479.05078125],\n",
       "       [24413.5       ],\n",
       "       [24406.09960938],\n",
       "       [24834.84960938],\n",
       "       [24836.09960938],\n",
       "       [24857.30078125],\n",
       "       [24951.15039062],\n",
       "       [25010.90039062],\n",
       "       [24717.69921875],\n",
       "       [24055.59960938],\n",
       "       [23992.55078125],\n",
       "       [24297.5       ],\n",
       "       [24117.        ],\n",
       "       [24367.5       ],\n",
       "       [24347.        ],\n",
       "       [24139.        ],\n",
       "       [24143.75      ],\n",
       "       [24541.15039062],\n",
       "       [24572.65039062],\n",
       "       [24698.84960938],\n",
       "       [24770.19921875],\n",
       "       [24811.5       ],\n",
       "       [24823.15039062],\n",
       "       [25010.59960938],\n",
       "       [25017.75      ],\n",
       "       [25052.34960938],\n",
       "       [25151.94921875],\n",
       "       [25235.90039062],\n",
       "       [25278.69921875],\n",
       "       [25279.84960938],\n",
       "       [25198.69921875],\n",
       "       [25145.09960938],\n",
       "       [24852.15039062],\n",
       "       [24936.40039062],\n",
       "       [25041.09960938],\n",
       "       [24918.44921875],\n",
       "       [25388.90039062],\n",
       "       [25356.5       ],\n",
       "       [25383.75      ],\n",
       "       [25418.55078125],\n",
       "       [25377.55078125],\n",
       "       [25415.80078125],\n",
       "       [25790.94921875],\n",
       "       [25939.05078125],\n",
       "       [25940.40039062],\n",
       "       [26004.15039062],\n",
       "       [26216.05078125],\n",
       "       [26178.94921875],\n",
       "       [25810.84960938],\n",
       "       [25796.90039062],\n",
       "       [25250.09960938],\n",
       "       [25014.59960938],\n",
       "       [24795.75      ],\n",
       "       [25013.15039062],\n",
       "       [24981.94921875],\n",
       "       [24998.44921875],\n",
       "       [24964.25      ],\n",
       "       [25127.94921875],\n",
       "       [25057.34960938],\n",
       "       [24971.30078125],\n",
       "       [24749.84960938],\n",
       "       [24854.05078125],\n",
       "       [24781.09960938],\n",
       "       [24472.09960938],\n",
       "       [24435.5       ],\n",
       "       [24399.40039062],\n",
       "       [24180.80078125],\n",
       "       [24339.15039062],\n",
       "       [24466.84960938],\n",
       "       [24340.84960938],\n",
       "       [24205.34960938],\n",
       "       [24304.34960938],\n",
       "       [23995.34960938],\n",
       "       [24213.30078125],\n",
       "       [24484.05078125],\n",
       "       [24199.34960938],\n",
       "       [24148.19921875],\n",
       "       [24141.30078125],\n",
       "       [23883.44921875],\n",
       "       [23559.05078125],\n",
       "       [23532.69921875],\n",
       "       [23453.80078125],\n",
       "       [23518.5       ],\n",
       "       [23349.90039062],\n",
       "       [23907.25      ],\n",
       "       [24221.90039062],\n",
       "       [24194.5       ],\n",
       "       [24274.90039062],\n",
       "       [23914.15039062],\n",
       "       [24131.09960938],\n",
       "       [24276.05078125],\n",
       "       [24457.15039062],\n",
       "       [24467.44921875],\n",
       "       [24708.40039062],\n",
       "       [24677.80078125],\n",
       "       [24619.        ],\n",
       "       [24610.05078125],\n",
       "       [24641.80078125],\n",
       "       [24548.69921875],\n",
       "       [24768.30078125],\n",
       "       [24668.25      ],\n",
       "       [24336.        ],\n",
       "       [24198.84960938],\n",
       "       [23951.69921875],\n",
       "       [23587.5       ],\n",
       "       [23753.44921875],\n",
       "       [23727.65039062],\n",
       "       [23750.19921875],\n",
       "       [23813.40039062],\n",
       "       [23644.90039062],\n",
       "       [23644.80078125]])"
      ]
     },
     "execution_count": 7,
     "metadata": {},
     "output_type": "execute_result"
    }
   ],
   "source": [
    "data = df['Close'].values\n",
    "data = data.reshape(-1, 1)\n",
    "data"
   ]
  },
  {
   "cell_type": "code",
   "execution_count": 9,
   "id": "67dc419083af29ec",
   "metadata": {
    "ExecuteTime": {
     "end_time": "2024-10-30T08:55:47.939401Z",
     "start_time": "2024-10-30T08:55:47.936703Z"
    }
   },
   "outputs": [],
   "source": [
    "scaler = MinMaxScaler(feature_range=(0, 1))\n",
    "scaled_data = scaler.fit_transform(data)"
   ]
  },
  {
   "cell_type": "code",
   "execution_count": 11,
   "id": "6ae13167b85b93a6",
   "metadata": {
    "ExecuteTime": {
     "end_time": "2024-10-30T08:55:47.964562Z",
     "start_time": "2024-10-30T08:55:47.960848Z"
    }
   },
   "outputs": [],
   "source": [
    "training_data_len = int(np.ceil(0.8 * len(scaled_data)))\n",
    "\n",
    "train_data = scaled_data[:training_data_len, :]\n",
    "test_data = scaled_data[training_data_len - 60:, :]\n",
    "\n",
    "x_train, y_train = [], []\n",
    "for i in range(60, len(train_data)):\n",
    "    x_train.append(train_data[i-60:i, 0])\n",
    "    y_train.append(train_data[i, 0])\n",
    "\n",
    "x_train, y_train = np.array(x_train), np.array(y_train)\n",
    "\n",
    "x_train = np.reshape(x_train, (x_train.shape[0], x_train.shape[1], 1))"
   ]
  },
  {
   "cell_type": "code",
   "execution_count": 13,
   "id": "dee7ce80569925b2",
   "metadata": {
    "ExecuteTime": {
     "end_time": "2024-10-30T08:55:48.018035Z",
     "start_time": "2024-10-30T08:55:47.982277Z"
    }
   },
   "outputs": [
    {
     "name": "stderr",
     "output_type": "stream",
     "text": [
      "/opt/anaconda3/lib/python3.12/site-packages/keras/src/layers/rnn/rnn.py:204: UserWarning: Do not pass an `input_shape`/`input_dim` argument to a layer. When using Sequential models, prefer using an `Input(shape)` object as the first layer in the model instead.\n",
      "  super().__init__(**kwargs)\n"
     ]
    }
   ],
   "source": [
    "model = Sequential()\n",
    "model.add(LSTM(units=50, return_sequences=True, input_shape=(x_train.shape[1], 1)))\n",
    "model.add(Dropout(0.2))\n",
    "model.add(LSTM(units=50, return_sequences=False))\n",
    "model.add(Dropout(0.2))\n",
    "model.add(Dense(units=25))\n",
    "model.add(Dense(units=1))"
   ]
  },
  {
   "cell_type": "code",
   "execution_count": 15,
   "id": "73fa2b2eac287562",
   "metadata": {
    "ExecuteTime": {
     "end_time": "2024-10-30T08:55:48.088616Z",
     "start_time": "2024-10-30T08:55:48.083590Z"
    }
   },
   "outputs": [],
   "source": [
    "model.compile(optimizer='adam', loss='mean_squared_error')"
   ]
  },
  {
   "cell_type": "code",
   "execution_count": 17,
   "id": "ff142a3608f595b",
   "metadata": {
    "ExecuteTime": {
     "end_time": "2024-10-30T08:55:51.337136Z",
     "start_time": "2024-10-30T08:55:48.101431Z"
    }
   },
   "outputs": [
    {
     "name": "stdout",
     "output_type": "stream",
     "text": [
      "Epoch 1/23\n",
      "\u001b[1m5/5\u001b[0m \u001b[32m━━━━━━━━━━━━━━━━━━━━\u001b[0m\u001b[37m\u001b[0m \u001b[1m2s\u001b[0m 25ms/step - loss: 0.2931\n",
      "Epoch 2/23\n",
      "\u001b[1m5/5\u001b[0m \u001b[32m━━━━━━━━━━━━━━━━━━━━\u001b[0m\u001b[37m\u001b[0m \u001b[1m0s\u001b[0m 24ms/step - loss: 0.0402\n",
      "Epoch 3/23\n",
      "\u001b[1m5/5\u001b[0m \u001b[32m━━━━━━━━━━━━━━━━━━━━\u001b[0m\u001b[37m\u001b[0m \u001b[1m0s\u001b[0m 24ms/step - loss: 0.0429\n",
      "Epoch 4/23\n",
      "\u001b[1m5/5\u001b[0m \u001b[32m━━━━━━━━━━━━━━━━━━━━\u001b[0m\u001b[37m\u001b[0m \u001b[1m0s\u001b[0m 24ms/step - loss: 0.0133\n",
      "Epoch 5/23\n",
      "\u001b[1m5/5\u001b[0m \u001b[32m━━━━━━━━━━━━━━━━━━━━\u001b[0m\u001b[37m\u001b[0m \u001b[1m0s\u001b[0m 24ms/step - loss: 0.0180\n",
      "Epoch 6/23\n",
      "\u001b[1m5/5\u001b[0m \u001b[32m━━━━━━━━━━━━━━━━━━━━\u001b[0m\u001b[37m\u001b[0m \u001b[1m0s\u001b[0m 24ms/step - loss: 0.0149\n",
      "Epoch 7/23\n",
      "\u001b[1m5/5\u001b[0m \u001b[32m━━━━━━━━━━━━━━━━━━━━\u001b[0m\u001b[37m\u001b[0m \u001b[1m0s\u001b[0m 24ms/step - loss: 0.0160\n",
      "Epoch 8/23\n",
      "\u001b[1m5/5\u001b[0m \u001b[32m━━━━━━━━━━━━━━━━━━━━\u001b[0m\u001b[37m\u001b[0m \u001b[1m0s\u001b[0m 25ms/step - loss: 0.0129\n",
      "Epoch 9/23\n",
      "\u001b[1m5/5\u001b[0m \u001b[32m━━━━━━━━━━━━━━━━━━━━\u001b[0m\u001b[37m\u001b[0m \u001b[1m0s\u001b[0m 24ms/step - loss: 0.0115\n",
      "Epoch 10/23\n",
      "\u001b[1m5/5\u001b[0m \u001b[32m━━━━━━━━━━━━━━━━━━━━\u001b[0m\u001b[37m\u001b[0m \u001b[1m0s\u001b[0m 24ms/step - loss: 0.0111\n",
      "Epoch 11/23\n",
      "\u001b[1m5/5\u001b[0m \u001b[32m━━━━━━━━━━━━━━━━━━━━\u001b[0m\u001b[37m\u001b[0m \u001b[1m0s\u001b[0m 24ms/step - loss: 0.0110\n",
      "Epoch 12/23\n",
      "\u001b[1m5/5\u001b[0m \u001b[32m━━━━━━━━━━━━━━━━━━━━\u001b[0m\u001b[37m\u001b[0m \u001b[1m0s\u001b[0m 24ms/step - loss: 0.0127\n",
      "Epoch 13/23\n",
      "\u001b[1m5/5\u001b[0m \u001b[32m━━━━━━━━━━━━━━━━━━━━\u001b[0m\u001b[37m\u001b[0m \u001b[1m0s\u001b[0m 24ms/step - loss: 0.0085\n",
      "Epoch 14/23\n",
      "\u001b[1m5/5\u001b[0m \u001b[32m━━━━━━━━━━━━━━━━━━━━\u001b[0m\u001b[37m\u001b[0m \u001b[1m0s\u001b[0m 24ms/step - loss: 0.0085\n",
      "Epoch 15/23\n",
      "\u001b[1m5/5\u001b[0m \u001b[32m━━━━━━━━━━━━━━━━━━━━\u001b[0m\u001b[37m\u001b[0m \u001b[1m0s\u001b[0m 24ms/step - loss: 0.0101\n",
      "Epoch 16/23\n",
      "\u001b[1m5/5\u001b[0m \u001b[32m━━━━━━━━━━━━━━━━━━━━\u001b[0m\u001b[37m\u001b[0m \u001b[1m0s\u001b[0m 25ms/step - loss: 0.0092\n",
      "Epoch 17/23\n",
      "\u001b[1m5/5\u001b[0m \u001b[32m━━━━━━━━━━━━━━━━━━━━\u001b[0m\u001b[37m\u001b[0m \u001b[1m0s\u001b[0m 24ms/step - loss: 0.0119\n",
      "Epoch 18/23\n",
      "\u001b[1m5/5\u001b[0m \u001b[32m━━━━━━━━━━━━━━━━━━━━\u001b[0m\u001b[37m\u001b[0m \u001b[1m0s\u001b[0m 25ms/step - loss: 0.0087\n",
      "Epoch 19/23\n",
      "\u001b[1m5/5\u001b[0m \u001b[32m━━━━━━━━━━━━━━━━━━━━\u001b[0m\u001b[37m\u001b[0m \u001b[1m0s\u001b[0m 26ms/step - loss: 0.0080\n",
      "Epoch 20/23\n",
      "\u001b[1m5/5\u001b[0m \u001b[32m━━━━━━━━━━━━━━━━━━━━\u001b[0m\u001b[37m\u001b[0m \u001b[1m0s\u001b[0m 26ms/step - loss: 0.0091\n",
      "Epoch 21/23\n",
      "\u001b[1m5/5\u001b[0m \u001b[32m━━━━━━━━━━━━━━━━━━━━\u001b[0m\u001b[37m\u001b[0m \u001b[1m0s\u001b[0m 27ms/step - loss: 0.0069\n",
      "Epoch 22/23\n",
      "\u001b[1m5/5\u001b[0m \u001b[32m━━━━━━━━━━━━━━━━━━━━\u001b[0m\u001b[37m\u001b[0m \u001b[1m0s\u001b[0m 27ms/step - loss: 0.0075\n",
      "Epoch 23/23\n",
      "\u001b[1m5/5\u001b[0m \u001b[32m━━━━━━━━━━━━━━━━━━━━\u001b[0m\u001b[37m\u001b[0m \u001b[1m0s\u001b[0m 27ms/step - loss: 0.0077\n"
     ]
    },
    {
     "data": {
      "text/plain": [
       "<keras.src.callbacks.history.History at 0x17e0c3a40>"
      ]
     },
     "execution_count": 17,
     "metadata": {},
     "output_type": "execute_result"
    }
   ],
   "source": [
    "model.fit(x_train, y_train, batch_size=32, epochs=23, verbose=1)"
   ]
  },
  {
   "cell_type": "code",
   "execution_count": 19,
   "id": "d7307fd07d926796",
   "metadata": {
    "ExecuteTime": {
     "end_time": "2024-10-30T08:55:51.700320Z",
     "start_time": "2024-10-30T08:55:51.454550Z"
    }
   },
   "outputs": [
    {
     "name": "stdout",
     "output_type": "stream",
     "text": [
      "\u001b[1m2/2\u001b[0m \u001b[32m━━━━━━━━━━━━━━━━━━━━\u001b[0m\u001b[37m\u001b[0m \u001b[1m0s\u001b[0m 153ms/step\n"
     ]
    }
   ],
   "source": [
    "x_test, y_test = [], data[training_data_len:, :]\n",
    "for i in range(60, len(test_data)):\n",
    "    x_test.append(test_data[i-60:i, 0])\n",
    "\n",
    "x_test = np.array(x_test)\n",
    "x_test = np.reshape(x_test, (x_test.shape[0], x_test.shape[1], 1))\n",
    "\n",
    "# Get predicted prices\n",
    "predictions = model.predict(x_test)\n",
    "predictions = scaler.inverse_transform(predictions)"
   ]
  },
  {
   "cell_type": "code",
   "execution_count": 21,
   "id": "8446f4a0c1e5f811",
   "metadata": {
    "ExecuteTime": {
     "end_time": "2024-10-30T08:55:52.075392Z",
     "start_time": "2024-10-30T08:55:51.703612Z"
    }
   },
   "outputs": [
    {
     "name": "stdout",
     "output_type": "stream",
     "text": [
      "\u001b[1m1/1\u001b[0m \u001b[32m━━━━━━━━━━━━━━━━━━━━\u001b[0m\u001b[37m\u001b[0m \u001b[1m0s\u001b[0m 18ms/step\n",
      "\u001b[1m1/1\u001b[0m \u001b[32m━━━━━━━━━━━━━━━━━━━━\u001b[0m\u001b[37m\u001b[0m \u001b[1m0s\u001b[0m 14ms/step\n",
      "\u001b[1m1/1\u001b[0m \u001b[32m━━━━━━━━━━━━━━━━━━━━\u001b[0m\u001b[37m\u001b[0m \u001b[1m0s\u001b[0m 14ms/step\n",
      "\u001b[1m1/1\u001b[0m \u001b[32m━━━━━━━━━━━━━━━━━━━━\u001b[0m\u001b[37m\u001b[0m \u001b[1m0s\u001b[0m 14ms/step\n",
      "\u001b[1m1/1\u001b[0m \u001b[32m━━━━━━━━━━━━━━━━━━━━\u001b[0m\u001b[37m\u001b[0m \u001b[1m0s\u001b[0m 14ms/step\n",
      "\u001b[1m1/1\u001b[0m \u001b[32m━━━━━━━━━━━━━━━━━━━━\u001b[0m\u001b[37m\u001b[0m \u001b[1m0s\u001b[0m 14ms/step\n",
      "\u001b[1m1/1\u001b[0m \u001b[32m━━━━━━━━━━━━━━━━━━━━\u001b[0m\u001b[37m\u001b[0m \u001b[1m0s\u001b[0m 13ms/step\n",
      "\u001b[1m1/1\u001b[0m \u001b[32m━━━━━━━━━━━━━━━━━━━━\u001b[0m\u001b[37m\u001b[0m \u001b[1m0s\u001b[0m 13ms/step\n",
      "\u001b[1m1/1\u001b[0m \u001b[32m━━━━━━━━━━━━━━━━━━━━\u001b[0m\u001b[37m\u001b[0m \u001b[1m0s\u001b[0m 14ms/step\n",
      "\u001b[1m1/1\u001b[0m \u001b[32m━━━━━━━━━━━━━━━━━━━━\u001b[0m\u001b[37m\u001b[0m \u001b[1m0s\u001b[0m 13ms/step\n",
      "\u001b[1m1/1\u001b[0m \u001b[32m━━━━━━━━━━━━━━━━━━━━\u001b[0m\u001b[37m\u001b[0m \u001b[1m0s\u001b[0m 13ms/step\n",
      "\u001b[1m1/1\u001b[0m \u001b[32m━━━━━━━━━━━━━━━━━━━━\u001b[0m\u001b[37m\u001b[0m \u001b[1m0s\u001b[0m 13ms/step\n",
      "\u001b[1m1/1\u001b[0m \u001b[32m━━━━━━━━━━━━━━━━━━━━\u001b[0m\u001b[37m\u001b[0m \u001b[1m0s\u001b[0m 14ms/step\n",
      "\u001b[1m1/1\u001b[0m \u001b[32m━━━━━━━━━━━━━━━━━━━━\u001b[0m\u001b[37m\u001b[0m \u001b[1m0s\u001b[0m 13ms/step\n",
      "\u001b[1m1/1\u001b[0m \u001b[32m━━━━━━━━━━━━━━━━━━━━\u001b[0m\u001b[37m\u001b[0m \u001b[1m0s\u001b[0m 13ms/step\n",
      "\u001b[1m1/1\u001b[0m \u001b[32m━━━━━━━━━━━━━━━━━━━━\u001b[0m\u001b[37m\u001b[0m \u001b[1m0s\u001b[0m 13ms/step\n",
      "\u001b[1m1/1\u001b[0m \u001b[32m━━━━━━━━━━━━━━━━━━━━\u001b[0m\u001b[37m\u001b[0m \u001b[1m0s\u001b[0m 13ms/step\n",
      "\u001b[1m1/1\u001b[0m \u001b[32m━━━━━━━━━━━━━━━━━━━━\u001b[0m\u001b[37m\u001b[0m \u001b[1m0s\u001b[0m 13ms/step\n",
      "\u001b[1m1/1\u001b[0m \u001b[32m━━━━━━━━━━━━━━━━━━━━\u001b[0m\u001b[37m\u001b[0m \u001b[1m0s\u001b[0m 14ms/step\n",
      "\u001b[1m1/1\u001b[0m \u001b[32m━━━━━━━━━━━━━━━━━━━━\u001b[0m\u001b[37m\u001b[0m \u001b[1m0s\u001b[0m 14ms/step\n"
     ]
    }
   ],
   "source": [
    "future_steps = 20\n",
    "last_sequence = test_data[-60:].reshape(1, 60, 1)\n",
    "future_predictions = []\n",
    "\n",
    "for i in range(future_steps):\n",
    "    next_price = model.predict(last_sequence)\n",
    "    future_predictions.append(next_price[0, 0])\n",
    "\n",
    "    # Corrected the reshaping for next_price to match the dimensions of last_sequence\n",
    "    last_sequence = np.append(last_sequence[:, 1:, :], np.reshape(next_price, (1, 1, 1)), axis=1)\n",
    "\n",
    "# Inverse scale future predictions\n",
    "future_predictions = scaler.inverse_transform(np.array(future_predictions).reshape(-1, 1))"
   ]
  },
  {
   "cell_type": "code",
   "execution_count": 23,
   "id": "6cb06fad450e4a4e",
   "metadata": {
    "ExecuteTime": {
     "end_time": "2024-10-30T08:55:52.193600Z",
     "start_time": "2024-10-30T08:55:52.086547Z"
    }
   },
   "outputs": [
    {
     "data": {
      "image/png": "[encoded data removed]",
      "text/plain": [
       "<Figure size 1000x600 with 1 Axes>"
      ]
     },
     "metadata": {},
     "output_type": "display_data"
    }
   ],
   "source": [
    "plt.figure(figsize=(10,6))\n",
    "plt.plot(df.index[training_data_len:], y_test, label='Actual Prices')\n",
    "plt.plot(df.index[training_data_len:], predictions, label='Predicted Prices', color='red')\n",
    "\n",
    "# Create future date range for the next 30 days\n",
    "future_dates = pd.date_range(start=df.index[-1], periods=future_steps + 1, freq='B')[1:]\n",
    "\n",
    "plt.plot(future_dates, future_predictions, label='Future Predicted Prices', color='green')\n",
    "plt.title(f'{ticker} Stock Price Prediction with LSTM')\n",
    "plt.xlabel('Date')\n",
    "plt.ylabel('Stock Price')\n",
    "plt.legend()\n",
    "plt.show()"
   ]
  },
  {
   "cell_type": "code",
   "execution_count": 25,
   "id": "ebc343d1a3f7e191",
   "metadata": {
    "ExecuteTime": {
     "end_time": "2024-10-30T08:55:52.209696Z",
     "start_time": "2024-10-30T08:55:52.206735Z"
    }
   },
   "outputs": [
    {
     "data": {
      "text/plain": [
       "array([[24208.662],\n",
       "       [24178.834],\n",
       "       [24166.982],\n",
       "       [24167.154],\n",
       "       [24175.37 ],\n",
       "       [24188.959],\n",
       "       [24206.121],\n",
       "       [24225.635],\n",
       "       [24246.666],\n",
       "       [24268.648],\n",
       "       [24291.193],\n",
       "       [24314.041],\n",
       "       [24337.018],\n",
       "       [24360.006],\n",
       "       [24382.93 ],\n",
       "       [24405.742],\n",
       "       [24428.412],\n",
       "       [24450.92 ],\n",
       "       [24473.256],\n",
       "       [24495.414]], dtype=float32)"
      ]
     },
     "execution_count": 25,
     "metadata": {},
     "output_type": "execute_result"
    }
   ],
   "source": [
    "forecasted_values = np.array(future_predictions)\n",
    "forecasted_values"
   ]
  },
  {
   "cell_type": "code",
   "execution_count": 27,
   "id": "ddd222f01e04beea",
   "metadata": {
    "ExecuteTime": {
     "end_time": "2024-10-30T08:55:52.252403Z",
     "start_time": "2024-10-30T08:55:52.220723Z"
    }
   },
   "outputs": [
    {
     "name": "stderr",
     "output_type": "stream",
     "text": [
      "[*********************100%***********************]  1 of 1 completed\n"
     ]
    }
   ],
   "source": [
    "from sklearn.metrics import mean_absolute_error, mean_squared_error\n",
    "\n",
    "raw_actual = yf.download(ticker, start='2024-12-01', end='2024-12-31')"
   ]
  },
  {
   "cell_type": "code",
   "execution_count": 29,
   "id": "dbda25ac8dbfaed9",
   "metadata": {
    "ExecuteTime": {
     "end_time": "2024-10-30T08:55:52.278329Z",
     "start_time": "2024-10-30T08:55:52.274233Z"
    }
   },
   "outputs": [
    {
     "data": {
      "text/plain": [
       "array([[24276.05078125],\n",
       "       [24457.15039062],\n",
       "       [24467.44921875],\n",
       "       [24708.40039062],\n",
       "       [24677.80078125],\n",
       "       [24619.        ],\n",
       "       [24610.05078125],\n",
       "       [24641.80078125],\n",
       "       [24548.69921875],\n",
       "       [24768.30078125],\n",
       "       [24668.25      ],\n",
       "       [24336.        ],\n",
       "       [24198.84960938],\n",
       "       [23951.69921875],\n",
       "       [23587.5       ],\n",
       "       [23753.44921875],\n",
       "       [23727.65039062],\n",
       "       [23750.19921875],\n",
       "       [23813.40039062],\n",
       "       [23644.90039062]])"
      ]
     },
     "execution_count": 29,
     "metadata": {},
     "output_type": "execute_result"
    }
   ],
   "source": [
    "raw_actual.dropna(inplace=True)\n",
    "actual_values = np.array(raw_actual['Close'])\n",
    "\n",
    "actual_values"
   ]
  },
  {
   "cell_type": "code",
   "execution_count": 31,
   "id": "c2c68264e1506229",
   "metadata": {
    "ExecuteTime": {
     "end_time": "2024-10-30T08:55:52.308350Z",
     "start_time": "2024-10-30T08:55:52.305048Z"
    }
   },
   "outputs": [],
   "source": [
    "mape = np.mean(np.abs((actual_values - forecasted_values) / actual_values)) * 100"
   ]
  },
  {
   "cell_type": "code",
   "execution_count": 33,
   "id": "3cc0d31c377c616d",
   "metadata": {
    "ExecuteTime": {
     "end_time": "2024-10-30T08:55:52.351427Z",
     "start_time": "2024-10-30T08:55:52.348911Z"
    }
   },
   "outputs": [],
   "source": [
    "mae = mean_absolute_error(actual_values, forecasted_values)"
   ]
  },
  {
   "cell_type": "code",
   "execution_count": 35,
   "id": "122814aeac0e3d63",
   "metadata": {
    "ExecuteTime": {
     "end_time": "2024-10-30T08:55:52.399171Z",
     "start_time": "2024-10-30T08:55:52.396972Z"
    }
   },
   "outputs": [],
   "source": [
    "rmse = np.sqrt(mean_squared_error(actual_values, forecasted_values))"
   ]
  },
  {
   "cell_type": "code",
   "execution_count": 37,
   "id": "4a84f4b6c0308851",
   "metadata": {
    "ExecuteTime": {
     "end_time": "2024-10-30T08:55:52.403906Z",
     "start_time": "2024-10-30T08:55:52.402277Z"
    }
   },
   "outputs": [
    {
     "name": "stdout",
     "output_type": "stream",
     "text": [
      "Mean Absolute Percentage Error (MAPE): 1.87%\n",
      "Mean Absolute Error (MAE): 452.34\n",
      "Root Mean Squared Error (RMSE): 505.34\n"
     ]
    }
   ],
   "source": [
    "print(f\"Mean Absolute Percentage Error (MAPE): {mape:.2f}%\")\n",
    "print(f\"Mean Absolute Error (MAE): {mae:.2f}\")\n",
    "print(f\"Root Mean Squared Error (RMSE): {rmse:.2f}\")"
   ]
  },
  {
   "cell_type": "code",
   "execution_count": 41,
   "id": "7ac98baed42a9db4",
   "metadata": {
    "ExecuteTime": {
     "end_time": "2024-10-30T09:13:49.373680Z",
     "start_time": "2024-10-30T09:13:49.212653Z"
    }
   },
   "outputs": [],
   "source": [
    "df_lstm = pd.DataFrame(forecasted_values)\n",
    "df_lstm.dropna(inplace=True)\n",
    "df_lstm.to_csv('LSTM_forecast.csv', index=False)"
   ]
  },
  {
   "cell_type": "code",
   "execution_count": null,
   "id": "44bf8f6e-36ba-41c1-b761-07a0247c5294",
   "metadata": {},
   "outputs": [],
   "source": []
  }
 ],
 "metadata": {
  "kernelspec": {
   "display_name": "Python 3 (ipykernel)",
   "language": "python",
   "name": "python3"
  },
  "language_info": {
   "codemirror_mode": {
    "name": "ipython",
    "version": 3
   },
   "file_extension": ".py",
   "mimetype": "text/x-python",
   "name": "python",
   "nbconvert_exporter": "python",
   "pygments_lexer": "ipython3",
   "version": "3.12.4"
  }
 },
 "nbformat": 4,
 "nbformat_minor": 5
}
